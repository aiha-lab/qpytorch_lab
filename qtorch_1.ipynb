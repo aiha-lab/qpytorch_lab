{
 "cells": [
  {
   "cell_type": "code",
   "execution_count": 1,
   "metadata": {},
   "outputs": [],
   "source": [
    "# 1. Using qtorch to tensor\n",
    "\n",
    "import torch\n",
    "from qtorch.quant import Quantizer, quantizer\n",
    "from qtorch import FloatingPoint"
   ]
  },
  {
   "cell_type": "code",
   "execution_count": 2,
   "metadata": {},
   "outputs": [
    {
     "name": "stdout",
     "output_type": "stream",
     "text": [
      "tensor([[0.9562, 0.8024, 0.3401],\n",
      "        [0.8613, 0.9098, 0.8928],\n",
      "        [0.9854, 0.6158, 0.6871]])\n"
     ]
    }
   ],
   "source": [
    "random_input = torch.rand([3,3])\n",
    "print(random_input)"
   ]
  },
  {
   "cell_type": "code",
   "execution_count": 3,
   "metadata": {},
   "outputs": [
    {
     "name": "stdout",
     "output_type": "stream",
     "text": [
      "tensor([[ 255.0000, -255.0000],\n",
      "        [   1.4000,    1.6000]])\n"
     ]
    }
   ],
   "source": [
    "constant_input = torch.tensor([[255., -255.],[1.4, 1.6]])\n",
    "print(constant_input)"
   ]
  },
  {
   "cell_type": "code",
   "execution_count": 4,
   "metadata": {},
   "outputs": [],
   "source": [
    "# Set quantizer\n",
    "bit = FloatingPoint(exp=2, man=1)\n",
    "quant = quantizer(forward_number=bit, forward_rounding=\"nearest\")"
   ]
  },
  {
   "cell_type": "code",
   "execution_count": 5,
   "metadata": {},
   "outputs": [
    {
     "name": "stdout",
     "output_type": "stream",
     "text": [
      "tensor([[1.0000, 0.7500, 0.5000],\n",
      "        [0.7500, 1.0000, 1.0000],\n",
      "        [1.0000, 0.5000, 0.7500]])\n"
     ]
    }
   ],
   "source": [
    "random_output = quant(random_input)\n",
    "print(random_output)"
   ]
  },
  {
   "cell_type": "code",
   "execution_count": 6,
   "metadata": {},
   "outputs": [
    {
     "name": "stdout",
     "output_type": "stream",
     "text": [
      "tensor([[ 3.0000, -3.0000],\n",
      "        [ 1.5000,  1.5000]])\n"
     ]
    }
   ],
   "source": [
    "constant_output = quant(constant_input)\n",
    "print(constant_output)"
   ]
  },
  {
   "cell_type": "code",
   "execution_count": null,
   "metadata": {},
   "outputs": [],
   "source": []
  }
 ],
 "metadata": {
  "kernelspec": {
   "display_name": "Python 3",
   "language": "python",
   "name": "python3"
  },
  "language_info": {
   "codemirror_mode": {
    "name": "ipython",
    "version": 3
   },
   "file_extension": ".py",
   "mimetype": "text/x-python",
   "name": "python",
   "nbconvert_exporter": "python",
   "pygments_lexer": "ipython3",
   "version": "3.7.9"
  }
 },
 "nbformat": 4,
 "nbformat_minor": 4
}
